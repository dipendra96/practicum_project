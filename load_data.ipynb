{
 "cells": [
  {
   "cell_type": "code",
   "execution_count": 1,
   "id": "0e6efb47",
   "metadata": {},
   "outputs": [
    {
     "name": "stdout",
     "output_type": "stream",
     "text": [
      "pharmacy_temp_extracted/RFP_DATA_Rx_Clms_100000_ids_10000_15000.parquet/\n",
      "(89834, 48)\n",
      "pharmacy_temp_extracted/RFP_DATA_Rx_Clms_100000_ids_55000_60000.parquet/\n",
      "(71657, 48)\n",
      "pharmacy_temp_extracted/RFP_DATA_Rx_Clms_100000_ids_25000_30000.parquet/\n",
      "(83530, 48)\n",
      "pharmacy_temp_extracted/RFP_DATA_Rx_Clms_100000_ids_20000_25000.parquet/\n",
      "(86566, 48)\n",
      "pharmacy_temp_extracted/RFP_DATA_Rx_Clms_100000_ids_70000_75000.parquet/\n",
      "(71248, 48)\n",
      "pharmacy_temp_extracted/RFP_DATA_Rx_Clms_100000_ids_45000_50000.parquet/\n",
      "(74926, 48)\n",
      "pharmacy_temp_extracted/RFP_DATA_Rx_Clms_100000_ids_40000_45000.parquet/\n",
      "(78306, 48)\n",
      "pharmacy_temp_extracted/RFP_DATA_Rx_Clms_100000_ids_90000_95000.parquet/\n",
      "(57878, 48)\n",
      "pharmacy_temp_extracted/RFP_DATA_Rx_Clms_100000_ids_75000_80000.parquet/\n",
      "(62898, 48)\n",
      "pharmacy_temp_extracted/RFP_DATA_Rx_Clms_100000_ids_0_5000.parquet/\n",
      "(95433, 48)\n",
      "pharmacy_temp_extracted/RFP_DATA_Rx_Clms_100000_ids_95000_100000.parquet/\n",
      "(56402, 48)\n",
      "pharmacy_temp_extracted/RFP_DATA_Rx_Clms_100000_ids_35000_40000.parquet/\n",
      "(83141, 48)\n",
      "pharmacy_temp_extracted/RFP_DATA_Rx_Clms_100000_ids_85000_90000.parquet/\n",
      "(61693, 48)\n",
      "pharmacy_temp_extracted/RFP_DATA_Rx_Clms_100000_ids_50000_55000.parquet/\n",
      "(75395, 48)\n",
      "pharmacy_temp_extracted/RFP_DATA_Rx_Clms_100000_ids_15000_20000.parquet/\n",
      "(87536, 48)\n",
      "pharmacy_temp_extracted/RFP_DATA_Rx_Clms_100000_ids_80000_85000.parquet/\n",
      "(62421, 48)\n",
      "pharmacy_temp_extracted/RFP_DATA_Rx_Clms_100000_ids_65000_70000.parquet/\n",
      "(69958, 48)\n",
      "pharmacy_temp_extracted/RFP_DATA_Rx_Clms_100000_ids_60000_65000.parquet/\n",
      "(72662, 48)\n",
      "pharmacy_temp_extracted/RFP_DATA_Rx_Clms_100000_ids_5000_10000.parquet/\n",
      "(1151035, 48)\n",
      "pharmacy_temp_extracted/RFP_DATA_Rx_Clms_100000_ids_30000_35000.parquet/\n",
      "(77614, 48)\n"
     ]
    }
   ],
   "source": [
    "import zipfile\n",
    "import pandas as pd\n",
    "import os\n",
    "\n",
    "# Specify the path to the folder containing zipped Parquet files\n",
    "folder_path = 'Claims/Pharmacy_Claims/'\n",
    "\n",
    "# Step 1: List all the zip files in the folder\n",
    "zip_files = [f for f in os.listdir(folder_path) if f.endswith('.zip')]\n",
    "\n",
    "# Step 2: For each zip file, extract its contents (the Parquet files)\n",
    "parquet_dataframes = []\n",
    "for zip_file in zip_files:\n",
    "    zip_file_path = os.path.join(folder_path, zip_file)\n",
    "    with zipfile.ZipFile(zip_file_path, 'r') as zip_ref:\n",
    "        # Extract all contents to a temporary directory\n",
    "        temp_dir = 'pharmacy_temp_extracted'\n",
    "        zip_ref.extractall(temp_dir)\n",
    "        pq_file = temp_dir + \"/\" + zip_ref.namelist()[0]\n",
    "        print(pq_file)\n",
    "        parquet_df = pd.read_parquet(pq_file)\n",
    "        print(parquet_df.shape)\n",
    "        parquet_dataframes.append(parquet_df)\n",
    "\n",
    "if len(parquet_dataframes) > 0:\n",
    "    combined_df = pd.concat(parquet_dataframes, axis=0, ignore_index=True)\n",
    "else:\n",
    "    print(\"No Parquet files found in the folder.\")\n",
    "del parquet_dataframes\n",
    "del parquet_df"
   ]
  },
  {
   "cell_type": "code",
   "execution_count": 2,
   "id": "8c70f91c",
   "metadata": {},
   "outputs": [
    {
     "data": {
      "text/html": [
       "<div>\n",
       "<style scoped>\n",
       "    .dataframe tbody tr th:only-of-type {\n",
       "        vertical-align: middle;\n",
       "    }\n",
       "\n",
       "    .dataframe tbody tr th {\n",
       "        vertical-align: top;\n",
       "    }\n",
       "\n",
       "    .dataframe thead th {\n",
       "        text-align: right;\n",
       "    }\n",
       "</style>\n",
       "<table border=\"1\" class=\"dataframe\">\n",
       "  <thead>\n",
       "    <tr style=\"text-align: right;\">\n",
       "      <th></th>\n",
       "      <th>_c0</th>\n",
       "      <th>_c1</th>\n",
       "      <th>_c2</th>\n",
       "      <th>_c3</th>\n",
       "      <th>_c4</th>\n",
       "      <th>_c5</th>\n",
       "      <th>_c6</th>\n",
       "      <th>_c7</th>\n",
       "      <th>_c8</th>\n",
       "      <th>_c9</th>\n",
       "      <th>...</th>\n",
       "      <th>_c38</th>\n",
       "      <th>_c39</th>\n",
       "      <th>_c40</th>\n",
       "      <th>_c41</th>\n",
       "      <th>_c42</th>\n",
       "      <th>_c43</th>\n",
       "      <th>_c44</th>\n",
       "      <th>_c45</th>\n",
       "      <th>_c46</th>\n",
       "      <th>_c47</th>\n",
       "    </tr>\n",
       "  </thead>\n",
       "  <tbody>\n",
       "    <tr>\n",
       "      <th>0</th>\n",
       "      <td>351051</td>\n",
       "      <td>99K1</td>\n",
       "      <td>None</td>\n",
       "      <td>None</td>\n",
       "      <td>GH06</td>\n",
       "      <td>99K1E001</td>\n",
       "      <td>IMD Non-Medigap</td>\n",
       "      <td>RISK</td>\n",
       "      <td>BlueChoice</td>\n",
       "      <td>Maryland</td>\n",
       "      <td>...</td>\n",
       "      <td>30</td>\n",
       "      <td>90.000</td>\n",
       "      <td>0</td>\n",
       "      <td>5</td>\n",
       "      <td>0.00</td>\n",
       "      <td>0.00</td>\n",
       "      <td>0.00</td>\n",
       "      <td>0.00</td>\n",
       "      <td>0.00</td>\n",
       "      <td>0.00</td>\n",
       "    </tr>\n",
       "    <tr>\n",
       "      <th>1</th>\n",
       "      <td>351051</td>\n",
       "      <td>99K1</td>\n",
       "      <td>None</td>\n",
       "      <td>None</td>\n",
       "      <td>GH06</td>\n",
       "      <td>99K1E001</td>\n",
       "      <td>IMD Non-Medigap</td>\n",
       "      <td>RISK</td>\n",
       "      <td>BlueChoice</td>\n",
       "      <td>Maryland</td>\n",
       "      <td>...</td>\n",
       "      <td>-28</td>\n",
       "      <td>-2.000</td>\n",
       "      <td>0</td>\n",
       "      <td>5</td>\n",
       "      <td>-8608.84</td>\n",
       "      <td>-4080.68</td>\n",
       "      <td>-150.00</td>\n",
       "      <td>0.00</td>\n",
       "      <td>-150.00</td>\n",
       "      <td>-3780.68</td>\n",
       "    </tr>\n",
       "    <tr>\n",
       "      <th>2</th>\n",
       "      <td>351051</td>\n",
       "      <td>99K1</td>\n",
       "      <td>None</td>\n",
       "      <td>None</td>\n",
       "      <td>GH06</td>\n",
       "      <td>99K1E001</td>\n",
       "      <td>IMD Non-Medigap</td>\n",
       "      <td>RISK</td>\n",
       "      <td>BlueChoice</td>\n",
       "      <td>Maryland</td>\n",
       "      <td>...</td>\n",
       "      <td>28</td>\n",
       "      <td>6.000</td>\n",
       "      <td>0</td>\n",
       "      <td>0</td>\n",
       "      <td>0.00</td>\n",
       "      <td>0.00</td>\n",
       "      <td>0.00</td>\n",
       "      <td>0.00</td>\n",
       "      <td>0.00</td>\n",
       "      <td>0.00</td>\n",
       "    </tr>\n",
       "    <tr>\n",
       "      <th>3</th>\n",
       "      <td>351051</td>\n",
       "      <td>99K1</td>\n",
       "      <td>None</td>\n",
       "      <td>None</td>\n",
       "      <td>GH06</td>\n",
       "      <td>99K1E001</td>\n",
       "      <td>IMD Non-Medigap</td>\n",
       "      <td>RISK</td>\n",
       "      <td>BlueChoice</td>\n",
       "      <td>Maryland</td>\n",
       "      <td>...</td>\n",
       "      <td>28</td>\n",
       "      <td>6.000</td>\n",
       "      <td>0</td>\n",
       "      <td>0</td>\n",
       "      <td>0.00</td>\n",
       "      <td>0.00</td>\n",
       "      <td>0.00</td>\n",
       "      <td>0.00</td>\n",
       "      <td>0.00</td>\n",
       "      <td>0.00</td>\n",
       "    </tr>\n",
       "    <tr>\n",
       "      <th>4</th>\n",
       "      <td>351051</td>\n",
       "      <td>99K1</td>\n",
       "      <td>None</td>\n",
       "      <td>None</td>\n",
       "      <td>GH06</td>\n",
       "      <td>99K1E001</td>\n",
       "      <td>IMD Non-Medigap</td>\n",
       "      <td>RISK</td>\n",
       "      <td>BlueChoice</td>\n",
       "      <td>Maryland</td>\n",
       "      <td>...</td>\n",
       "      <td>28</td>\n",
       "      <td>6.000</td>\n",
       "      <td>0</td>\n",
       "      <td>0</td>\n",
       "      <td>0.00</td>\n",
       "      <td>0.00</td>\n",
       "      <td>0.00</td>\n",
       "      <td>0.00</td>\n",
       "      <td>0.00</td>\n",
       "      <td>0.00</td>\n",
       "    </tr>\n",
       "  </tbody>\n",
       "</table>\n",
       "<p>5 rows × 48 columns</p>\n",
       "</div>"
      ],
      "text/plain": [
       "      _c0   _c1   _c2   _c3   _c4       _c5              _c6   _c7  \\\n",
       "0  351051  99K1  None  None  GH06  99K1E001  IMD Non-Medigap  RISK   \n",
       "1  351051  99K1  None  None  GH06  99K1E001  IMD Non-Medigap  RISK   \n",
       "2  351051  99K1  None  None  GH06  99K1E001  IMD Non-Medigap  RISK   \n",
       "3  351051  99K1  None  None  GH06  99K1E001  IMD Non-Medigap  RISK   \n",
       "4  351051  99K1  None  None  GH06  99K1E001  IMD Non-Medigap  RISK   \n",
       "\n",
       "          _c8       _c9  ... _c38    _c39 _c40 _c41      _c42      _c43  \\\n",
       "0  BlueChoice  Maryland  ...   30  90.000    0    5      0.00      0.00   \n",
       "1  BlueChoice  Maryland  ...  -28  -2.000    0    5  -8608.84  -4080.68   \n",
       "2  BlueChoice  Maryland  ...   28   6.000    0    0      0.00      0.00   \n",
       "3  BlueChoice  Maryland  ...   28   6.000    0    0      0.00      0.00   \n",
       "4  BlueChoice  Maryland  ...   28   6.000    0    0      0.00      0.00   \n",
       "\n",
       "      _c44  _c45     _c46      _c47  \n",
       "0     0.00  0.00     0.00      0.00  \n",
       "1  -150.00  0.00  -150.00  -3780.68  \n",
       "2     0.00  0.00     0.00      0.00  \n",
       "3     0.00  0.00     0.00      0.00  \n",
       "4     0.00  0.00     0.00      0.00  \n",
       "\n",
       "[5 rows x 48 columns]"
      ]
     },
     "execution_count": 2,
     "metadata": {},
     "output_type": "execute_result"
    }
   ],
   "source": [
    "combined_df.head()"
   ]
  },
  {
   "cell_type": "code",
   "execution_count": 3,
   "id": "18a51cd2",
   "metadata": {},
   "outputs": [
    {
     "data": {
      "text/plain": [
       "(2570133, 48)"
      ]
     },
     "execution_count": 3,
     "metadata": {},
     "output_type": "execute_result"
    }
   ],
   "source": [
    "combined_df.shape"
   ]
  },
  {
   "cell_type": "code",
   "execution_count": 4,
   "id": "e9877b19",
   "metadata": {},
   "outputs": [
    {
     "data": {
      "text/plain": [
       "54001"
      ]
     },
     "execution_count": 4,
     "metadata": {},
     "output_type": "execute_result"
    }
   ],
   "source": [
    "combined_df['_c0'].nunique()"
   ]
  },
  {
   "cell_type": "code",
   "execution_count": 5,
   "id": "56a30683",
   "metadata": {},
   "outputs": [],
   "source": [
    "df = combined_df.drop_duplicates()"
   ]
  },
  {
   "cell_type": "code",
   "execution_count": 6,
   "id": "dfc1bb1e",
   "metadata": {},
   "outputs": [
    {
     "data": {
      "text/plain": [
       "(2570133, 48)"
      ]
     },
     "execution_count": 6,
     "metadata": {},
     "output_type": "execute_result"
    }
   ],
   "source": [
    "df.shape"
   ]
  },
  {
   "cell_type": "code",
   "execution_count": 7,
   "id": "471ea454",
   "metadata": {},
   "outputs": [],
   "source": [
    "combined_df.to_csv('pharmacy_claims.csv.gz', index=False)"
   ]
  },
  {
   "cell_type": "code",
   "execution_count": null,
   "id": "4f6f9c22",
   "metadata": {},
   "outputs": [],
   "source": [
    "df = combined_df[combined_df['_c16']=='170010893840223999']\n",
    "df.loc[:, (df != df.iloc[0]).any()]"
   ]
  },
  {
   "cell_type": "code",
   "execution_count": null,
   "id": "fb54ad43",
   "metadata": {},
   "outputs": [],
   "source": [
    "combined_df.groupby(\"_c16\").count()"
   ]
  },
  {
   "cell_type": "code",
   "execution_count": null,
   "id": "868a2c1b",
   "metadata": {},
   "outputs": [],
   "source": [
    "df.shape"
   ]
  },
  {
   "cell_type": "code",
   "execution_count": null,
   "id": "9944b858",
   "metadata": {},
   "outputs": [],
   "source": []
  }
 ],
 "metadata": {
  "kernelspec": {
   "display_name": "Python 3 (ipykernel)",
   "language": "python",
   "name": "python3"
  },
  "language_info": {
   "codemirror_mode": {
    "name": "ipython",
    "version": 3
   },
   "file_extension": ".py",
   "mimetype": "text/x-python",
   "name": "python",
   "nbconvert_exporter": "python",
   "pygments_lexer": "ipython3",
   "version": "3.10.9"
  }
 },
 "nbformat": 4,
 "nbformat_minor": 5
}
